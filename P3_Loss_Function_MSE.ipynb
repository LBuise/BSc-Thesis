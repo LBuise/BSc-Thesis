{
 "cells": [
  {
   "cell_type": "markdown",
   "metadata": {},
   "source": [
    "## Learning from Isochrones: A machine learning approach to estimating stellar properties\n",
    "\n",
    "### Part 3 - Training the network using the MSE-loss\n",
    "\n",
    "##### Luco Buise (s1055446)\n",
    "\n",
    "---"
   ]
  },
  {
   "cell_type": "code",
   "execution_count": 1,
   "metadata": {},
   "outputs": [],
   "source": [
    "# imports\n",
    "import numpy as np\n",
    "import matplotlib.pyplot as plt\n",
    "import scipy.interpolate as ip\n",
    "import random as ran\n",
    "\n",
    "import torch\n",
    "import torch.nn as nn\n",
    "import torch.optim as optim\n",
    "\n",
    "import torchbnn as bnn"
   ]
  },
  {
   "cell_type": "code",
   "execution_count": 2,
   "metadata": {},
   "outputs": [
    {
     "name": "stdout",
     "output_type": "stream",
     "text": [
      "torch.Size([308, 200]) torch.Size([308, 2])\n"
     ]
    }
   ],
   "source": [
    "# create training data\n",
    "\n",
    "isochrones = [\"FeH05\", \"FeH0\", \"FeH-05\", \"FeH-10\", \"FeH-15\", \"FeH-20\", \"FeH-25\"]\n",
    "\n",
    "isochrone_values = [0.5, 0, -0.5, -1, -1.5, -2, -2.5]\n",
    "\n",
    "Y = np.array([])\n",
    "X = np.array([])\n",
    "\n",
    "for i, iso in enumerate(isochrones):\n",
    "\n",
    "    loga, mag_B, mag_V = np.loadtxt('isochrones/small_data/isoc_' + iso + '.cmd', usecols=(1, 10, 11), unpack=True)\n",
    "    loga = np.around(loga, decimals=2) \n",
    "    \n",
    "    # find the highest and lowest age in this isochrone\n",
    "    min_age = min(loga)\n",
    "    max_age = max(loga)\n",
    "    steps = ((max_age - min_age) / 0.1) + 1\n",
    "    \n",
    "    # create the ages\n",
    "    ages = np.linspace(min_age, max_age, int(steps))\n",
    "    ages = np.around(ages, decimals=2)\n",
    "        \n",
    "    # set the y-values, first the age, then the metallicity\n",
    "    y = np.array([(age, isochrone_values[i]) for age in ages])\n",
    "    \n",
    "    if len(Y) == 0:\n",
    "        Y = y\n",
    "    else:\n",
    "        Y = np.append(Y, y, axis = 0)\n",
    "    \n",
    "    for age in ages:\n",
    "        w = np.where(age == loga)\n",
    "\n",
    "        r = sorted(ran.sample(range(0, len(mag_B[w])), 100))\n",
    "        \n",
    "        bv = (mag_B[w] - mag_V[w])[r]\n",
    "        v = mag_V[w][r]\n",
    "\n",
    "        x = np.array([np.append(bv, v)])\n",
    "\n",
    "        if len(X) == 0:\n",
    "            X = x\n",
    "        else:\n",
    "            X = np.append(X, x, axis = 0)\n",
    "\n",
    "X_train = torch.from_numpy(X).float()\n",
    "y_train = torch.from_numpy(Y).float()\n",
    "print(X_train.shape, y_train.shape)"
   ]
  },
  {
   "cell_type": "code",
   "execution_count": 3,
   "metadata": {},
   "outputs": [],
   "source": [
    "# load the regressed testing data from files (see the Creating_Test_Data.ipynb notebook for more information)\n",
    "\n",
    "X_OC = np.load('openClusters/oc_xdata.npy')\n",
    "Y_OC = np.load('openClusters/oc_ydata.npy')\n",
    "\n",
    "X_GC = np.load('globClusters/gc_xdata.npy')\n",
    "Y_GC = np.load('globClusters/gc_ydata.npy')\n",
    "\n",
    "X_OC = torch.from_numpy(X_OC).float()\n",
    "Y_OC = torch.from_numpy(Y_OC).float()\n",
    "\n",
    "X_GC = torch.from_numpy(X_GC).float()\n",
    "Y_GC = torch.from_numpy(Y_GC).float()"
   ]
  },
  {
   "cell_type": "code",
   "execution_count": 4,
   "metadata": {},
   "outputs": [],
   "source": [
    "# transform the test data of X_OC and X_GC by adding their distance modulus to the V values\n",
    "\n",
    "# transform distances in kpc to distance modulus\n",
    "def kpc_to_mod(kpc):\n",
    "    return 5 * np.log10(10 / (kpc * 1000))\n",
    "\n",
    "oc_distances = np.loadtxt(\"openClusters/Ages_and_properties.txt\", usecols = (3), unpack=True)\n",
    "gc_distances = np.loadtxt(\"globClusters/Distances.txt\", usecols = (1), unpack=True)\n",
    "\n",
    "gc_distances = kpc_to_mod(gc_distances) * -1\n",
    "\n",
    "for i, d in enumerate(oc_distances):\n",
    "    X_OC[i][100:] = X_OC[i][100:] - d\n",
    "\n",
    "for i, d in enumerate(gc_distances):\n",
    "    X_GC[i][100:] = X_GC[i][100:] - d\n"
   ]
  },
  {
   "cell_type": "code",
   "execution_count": 5,
   "metadata": {},
   "outputs": [],
   "source": [
    "# create helper functions to test the network\n",
    "\n",
    "# calculate the confidence interval of a given model and input data over n predictions\n",
    "def conf_int(model, X, n = 1000):\n",
    "    predicted = np.array([model(X).data.numpy() for k in range(n)])\n",
    "    pred_age = predicted[:,:, 0]\n",
    "    pred_z = predicted[:,:, 1]\n",
    "    \n",
    "    age_mean = np.mean(pred_age, axis=0)\n",
    "    z_mean = np.mean(pred_z, axis = 0)\n",
    "    age_std = np.std(pred_age, axis=0)\n",
    "    z_std = np.std(pred_z, axis = 0)\n",
    "    \n",
    "    age_ci_lb = age_mean - 3 * age_std\n",
    "    age_ci_ub = age_mean + 3 * age_std\n",
    "    age_ci = np.array([[lb,ub] for lb,ub in zip(age_ci_lb,age_ci_ub)])\n",
    "\n",
    "    z_ci_lb = z_mean - 3 * z_std\n",
    "    z_ci_ub = z_mean + 3 * z_std\n",
    "    z_ci = np.array([[lb,ub] for lb,ub in zip(z_ci_lb,z_ci_ub)])\n",
    "    \n",
    "    return age_ci, z_ci\n",
    "\n",
    "# calculate the average width of multiple confidence intervals\n",
    "def avg_ci_width(conf_int):\n",
    "    widths = conf_int[:, 1] - conf_int[:, 0]\n",
    "    return widths.mean()\n",
    "\n",
    "# calculate the average accuracy, using the 99.7 confidence interval (i.e. 3 * std)\n",
    "def avg_acc(Y, age_ci, z_ci):\n",
    "    correct_age = 0\n",
    "    correct_z = 0\n",
    "    \n",
    "    for i, y in enumerate(Y):\n",
    "        \n",
    "        if float(y[0]) >= float(age_ci[i, 0]) and float(y[0]) <= float(age_ci[i, 1]):\n",
    "            correct_age += 1\n",
    "        if float(y[1]) >= float(z_ci[i, 0]) and float(y[1]) <= float(z_ci[i, 1]):\n",
    "            correct_z += 1\n",
    "    \n",
    "    return 100 * float(correct_age) / len(Y), 100 * float(correct_z) / len(Y)\n",
    "\n",
    "# calculate the average MSE-loss of a given model and data over n predictions\n",
    "def avg_mse(model, X, Y, n = 1000):\n",
    "    tot_mse_age = 0\n",
    "    tot_mse_z = 0\n",
    "    \n",
    "    # get average mse\n",
    "    for i in range(n):\n",
    "        predicted = model(X).data\n",
    "        tot_mse_age += ((Y[:,0] - predicted[:,0])**2).mean()\n",
    "        tot_mse_z += ((Y[:,1] - predicted[:,1])**2).mean()\n",
    "        \n",
    "    return tot_mse_age / n, tot_mse_z / n"
   ]
  },
  {
   "cell_type": "code",
   "execution_count": 6,
   "metadata": {},
   "outputs": [
    {
     "name": "stdout",
     "output_type": "stream",
     "text": [
      "Iteration 1 of 10 completed!\n",
      "Iteration 2 of 10 completed!\n",
      "Iteration 3 of 10 completed!\n",
      "Iteration 4 of 10 completed!\n",
      "Iteration 5 of 10 completed!\n",
      "Iteration 6 of 10 completed!\n",
      "Iteration 7 of 10 completed!\n",
      "Iteration 8 of 10 completed!\n",
      "Iteration 9 of 10 completed!\n",
      "Iteration 10 of 10 completed!\n"
     ]
    }
   ],
   "source": [
    "# create and test regression model\n",
    "\n",
    "mse_loss = nn.MSELoss()\n",
    "kl_loss = bnn.BKLLoss(reduction='mean', last_layer_only=False)\n",
    "kl_weight = 0.1\n",
    "\n",
    "acc_age_train = np.array([])\n",
    "acc_z_train = np.array([])\n",
    "ci_age_train = np.array([])\n",
    "ci_z_train = np.array([])\n",
    "mse_age_train = np.array([])\n",
    "mse_z_train = np.array([])\n",
    "\n",
    "acc_age_oc = np.array([])\n",
    "acc_z_oc = np.array([])\n",
    "ci_age_oc = np.array([])\n",
    "ci_z_oc = np.array([])\n",
    "mse_age_oc = np.array([])\n",
    "mse_z_oc = np.array([])\n",
    "\n",
    "acc_age_gc = np.array([])\n",
    "acc_z_gc = np.array([])\n",
    "ci_age_gc = np.array([])\n",
    "ci_z_gc = np.array([])\n",
    "mse_age_gc = np.array([])\n",
    "mse_z_gc = np.array([])\n",
    "\n",
    "n = 10\n",
    "\n",
    "for i in range(n):\n",
    "    \n",
    "    # define model\n",
    "    model = nn.Sequential(\n",
    "        bnn.BayesLinear(prior_mu=0, prior_sigma=0.1, in_features=200, out_features=180),\n",
    "        nn.Sigmoid(),\n",
    "        bnn.BayesLinear(prior_mu=0, prior_sigma=0.1, in_features=180, out_features=2),\n",
    "    )\n",
    "\n",
    "    optimizer = optim.Adam(model.parameters(), lr=0.01)\n",
    "    \n",
    "    # start training\n",
    "    for step in range(3000):\n",
    "        pre = model(X_train)\n",
    "        mse = mse_loss(pre, y_train)\n",
    "        kl = kl_loss(model)\n",
    "        cost = mse + kl_weight*kl\n",
    "\n",
    "        optimizer.zero_grad()\n",
    "        cost.backward()\n",
    "        optimizer.step()\n",
    "\n",
    "    # keep track of performance of training set, open clusters, and globular clusters\n",
    "    age_ci, z_ci = conf_int(model, X_train)\n",
    "        \n",
    "    acc_age, acc_z = avg_acc(y_train, age_ci, z_ci)\n",
    "    acc_age_train = np.append(acc_age_train, [acc_age])\n",
    "    acc_z_train = np.append(acc_z_train, acc_z)\n",
    "    \n",
    "    ci_age_train = np.append(ci_age_train, avg_ci_width(age_ci))\n",
    "    ci_z_train = np.append(ci_z_train, avg_ci_width(z_ci))\n",
    "    \n",
    "    mse_age, mse_z = avg_mse(model, X_train, y_train)\n",
    "    mse_age_train = np.append(mse_age_train, mse_age)\n",
    "    mse_z_train = np.append(mse_z_train, mse_z)\n",
    "    \n",
    "    age_ci, z_ci = conf_int(model, X_OC)\n",
    "    \n",
    "    acc_age, acc_z = avg_acc(Y_OC, age_ci, z_ci)\n",
    "    acc_age_oc = np.append(acc_age_oc, acc_age)\n",
    "    acc_z_oc = np.append(acc_z_oc, acc_z)\n",
    "    \n",
    "    ci_age_oc = np.append(ci_age_oc, avg_ci_width(age_ci))\n",
    "    ci_z_oc = np.append(ci_z_oc, avg_ci_width(z_ci))\n",
    "    \n",
    "    mse_age, mse_z = avg_mse(model, X_OC, Y_OC)\n",
    "    mse_age_oc = np.append(mse_age_oc, mse_age)\n",
    "    mse_z_oc = np.append(mse_z_oc, mse_z)\n",
    "    \n",
    "    age_ci, z_ci = conf_int(model, X_GC)\n",
    "    \n",
    "    acc_age, acc_z = avg_acc(Y_GC, age_ci, z_ci)\n",
    "    acc_age_gc = np.append(acc_age_gc, acc_age)\n",
    "    acc_z_gc = np.append(acc_z_gc, acc_z)\n",
    "    \n",
    "    ci_age_gc = np.append(ci_age_gc, avg_ci_width(age_ci))\n",
    "    ci_z_gc = np.append(ci_z_gc, avg_ci_width(z_ci))\n",
    "    \n",
    "    mse_age, mse_z = avg_mse(model, X_GC, Y_GC)\n",
    "    mse_age_gc = np.append(mse_age_gc, mse_age)\n",
    "    mse_z_gc = np.append(mse_z_gc, mse_z)\n",
    "    \n",
    "    print(\"Iteration {} of {} completed!\".format(i + 1, n))"
   ]
  },
  {
   "cell_type": "code",
   "execution_count": 7,
   "metadata": {},
   "outputs": [
    {
     "data": {
      "image/png": "[encoded data removed]",
      "text/plain": [
       "<Figure size 1080x360 with 2 Axes>"
      ]
     },
     "metadata": {
      "needs_background": "light"
     },
     "output_type": "display_data"
    }
   ],
   "source": [
    "fig, axs = plt.subplots(1, 2, figsize = (15, 5))\n",
    "\n",
    "names = ['Train age', 'OC age', 'GC age']\n",
    "x_pos = np.arange(len(names))\n",
    "\n",
    "means = [acc_age_train.mean(),  acc_age_oc.mean(), acc_age_gc.mean()]\n",
    "errors = [acc_age_train.std(),  acc_age_oc.std(), acc_age_gc.std()]\n",
    "\n",
    "axs[0].bar(x_pos, means, yerr=errors, align='center', alpha=0.5, ecolor='black', capsize=10)\n",
    "axs[0].set_ylabel('Accuracy')\n",
    "axs[0].set_xticks(x_pos)\n",
    "axs[0].set_xticklabels(names)\n",
    "\n",
    "names = ['Train metallicity', 'OC metallicity', 'GC metallicity']\n",
    "means = [acc_z_train.mean(),  acc_z_oc.mean(), acc_z_gc.mean()]\n",
    "errors = [acc_z_train.std(),  acc_z_oc.std(), acc_z_gc.std()]\n",
    "\n",
    "axs[1].bar(x_pos, means, yerr=errors, align='center', alpha=0.5, ecolor='black', capsize=10)\n",
    "axs[1].set_xticks(x_pos)\n",
    "axs[1].set_xticklabels(names)\n",
    "\n",
    "plt.savefig(\"Graphs/MSE_acc_bar.png\")\n",
    "plt.show()"
   ]
  },
  {
   "cell_type": "code",
   "execution_count": 8,
   "metadata": {},
   "outputs": [
    {
     "data": {
      "image/png": "[encoded data removed]",
      "text/plain": [
       "<Figure size 1080x360 with 2 Axes>"
      ]
     },
     "metadata": {
      "needs_background": "light"
     },
     "output_type": "display_data"
    }
   ],
   "source": [
    "fig, axs = plt.subplots(1, 2, figsize = (15, 5))\n",
    "\n",
    "names = ['Train age', 'OC age', 'GC age']\n",
    "x_pos = np.arange(len(names))\n",
    "\n",
    "means = [mse_age_train.mean(),  mse_age_oc.mean(), mse_age_gc.mean()]\n",
    "errors = [mse_age_train.std(),  mse_age_oc.std(), mse_age_gc.std()]\n",
    "\n",
    "axs[0].bar(x_pos, means, yerr=errors, align='center', alpha=0.5, ecolor='black', capsize=10)\n",
    "axs[0].set_ylabel('MSE-loss')\n",
    "axs[0].set_xticks(x_pos)\n",
    "axs[0].set_xticklabels(names)\n",
    "\n",
    "names = ['Train metallicity', 'OC metallicity', 'GC metallicity']\n",
    "means = [mse_z_train.mean(),  mse_z_oc.mean(), mse_z_gc.mean()]\n",
    "errors = [mse_z_train.std(),  mse_z_oc.std(), mse_z_gc.std()]\n",
    "\n",
    "axs[1].bar(x_pos, means, yerr=errors, align='center', alpha=0.5, ecolor='black', capsize=10)\n",
    "axs[1].set_xticks(x_pos)\n",
    "axs[1].set_xticklabels(names)\n",
    "\n",
    "plt.savefig(\"Graphs/MSE_mse_bar.png\")\n",
    "plt.show()"
   ]
  },
  {
   "cell_type": "code",
   "execution_count": 9,
   "metadata": {},
   "outputs": [
    {
     "data": {
      "image/png": "[encoded data removed]",
      "text/plain": [
       "<Figure size 1080x360 with 2 Axes>"
      ]
     },
     "metadata": {
      "needs_background": "light"
     },
     "output_type": "display_data"
    }
   ],
   "source": [
    "fig, axs = plt.subplots(1, 2, figsize = (15, 5))\n",
    "\n",
    "names = ['Train age', 'OC age', 'GC age']\n",
    "x_pos = np.arange(len(names))\n",
    "\n",
    "means = [ci_age_train.mean(),  ci_age_oc.mean(), ci_age_gc.mean()]\n",
    "errors = [ci_age_train.std(),  ci_age_oc.std(), ci_age_gc.std()]\n",
    "\n",
    "axs[0].bar(x_pos, means, yerr=errors, align='center', alpha=0.5, ecolor='black', capsize=10)\n",
    "axs[0].set_ylabel('CI width')\n",
    "axs[0].set_xticks(x_pos)\n",
    "axs[0].set_xticklabels(names)\n",
    "\n",
    "names = ['Train metallicity', 'OC metallicity', 'GC metallicity']\n",
    "means = [ci_z_train.mean(),  ci_z_oc.mean(), ci_z_gc.mean()]\n",
    "errors = [ci_z_train.std(),  ci_z_oc.std(), ci_z_gc.std()]\n",
    "\n",
    "axs[1].bar(x_pos, means, yerr=errors, align='center', alpha=0.5, ecolor='black', capsize=10)\n",
    "axs[1].set_xticks(x_pos)\n",
    "axs[1].set_xticklabels(names)\n",
    "\n",
    "plt.savefig(\"Graphs/MSE_ci_bar.png\")\n",
    "plt.show()"
   ]
  },
  {
   "cell_type": "code",
   "execution_count": null,
   "metadata": {},
   "outputs": [],
   "source": []
  }
 ],
 "metadata": {
  "kernelspec": {
   "display_name": "Python 3",
   "language": "python",
   "name": "python3"
  },
  "language_info": {
   "codemirror_mode": {
    "name": "ipython",
    "version": 3
   },
   "file_extension": ".py",
   "mimetype": "text/x-python",
   "name": "python",
   "nbconvert_exporter": "python",
   "pygments_lexer": "ipython3",
   "version": "3.8.3"
  }
 },
 "nbformat": 4,
 "nbformat_minor": 4
}
